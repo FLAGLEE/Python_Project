{
 "cells": [
  {
   "cell_type": "markdown",
   "metadata": {},
   "source": [
    "## Hacker News（http://news.ycombinator.com/ ）\n",
    "\n",
    "**在Hacker News网站， 用户分享编程和技术方面的文章， 并就这些文章展开积极的讨论**\n",
    "\n",
    "**调用返回本书编写时最热门的文章的信息**\n",
    "\n",
    "**https://hacker-news.firebaseio.com/v0/item/9884165.json**\n"
   ]
  },
  {
   "cell_type": "code",
   "execution_count": null,
   "metadata": {},
   "outputs": [],
   "source": [
    "import requests\n",
    "from operator import itemgetter\n",
    "# 执行API调用并存储响应\n",
    "url = 'https://hacker-news.firebaseio.com/v0/topstories.json'\n",
    "r = requests.get(url)\n",
    "print(\"Status code:\", r.status_code)\n",
    "\n",
    "# 处理有关每篇文章的信息\n",
    "submission_ids = r.json()\n",
    "submission_dicts = []\n",
    "for submission_id in submission_ids[:30]:\n",
    "    # 对于每篇文章， 都执行一个API调用\n",
    "    url = ('https://hacker-news.firebaseio.com/v0/item/' +str(submission_id) + '.json')\n",
    "    submission_r = requests.get(url)\n",
    "    print(submission_r.status_code)\n",
    "    response_dict = submission_r.json()\n",
    "\n",
    "    submission_dict = {\n",
    "        'title': response_dict['title'],\n",
    "        'link': 'http://news.ycombinator.com/item?id=' + str(submission_id),\n",
    "        'comments': response_dict.get('descendants', 0)\n",
    "        }\n",
    "    submission_dicts.append(submission_dict)\n",
    "\n",
    "submission_dicts = sorted(submission_dicts, key=itemgetter('comments'),reverse=True)\n",
    "\n",
    "for submission_dict in submission_dicts:\n",
    "    print(\"\\nTitle:\", submission_dict['title'])\n",
    "    print(\"Discussion link:\", submission_dict['link'])\n",
    "    print(\"Comments:\", submission_dict['comments'])"
   ]
  },
  {
   "cell_type": "code",
   "execution_count": null,
   "metadata": {},
   "outputs": [],
   "source": []
  }
 ],
 "metadata": {
  "kernelspec": {
   "display_name": "Python 3",
   "language": "python",
   "name": "python3"
  },
  "language_info": {
   "codemirror_mode": {
    "name": "ipython",
    "version": 3
   },
   "file_extension": ".py",
   "mimetype": "text/x-python",
   "name": "python",
   "nbconvert_exporter": "python",
   "pygments_lexer": "ipython3",
   "version": "3.7.4"
  },
  "toc": {
   "base_numbering": 1,
   "nav_menu": {},
   "number_sections": true,
   "sideBar": true,
   "skip_h1_title": false,
   "title_cell": "Table of Contents",
   "title_sidebar": "Contents",
   "toc_cell": false,
   "toc_position": {},
   "toc_section_display": true,
   "toc_window_display": false
  }
 },
 "nbformat": 4,
 "nbformat_minor": 4
}
